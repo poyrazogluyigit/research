{
 "cells": [
  {
   "cell_type": "code",
   "execution_count": 1,
   "metadata": {},
   "outputs": [],
   "source": [
    "# script to clean up dicom data. it copies useful files from the training data (eg. files that aren't just entirely black)\n",
    "# to the target folder\n",
    "\n",
    "TRAINING_FOLDER = 'F:\\\\rsna-miccai-brain-tumor-radiogenomic-classification\\\\train'\n",
    "TARGET_FOLDER = 'F:\\\\brain-tumor-target\\\\train'\n",
    "\n",
    "import pathlib\n",
    "import pydicom\n",
    "import numpy\n",
    "import shutil"
   ]
  },
  {
   "cell_type": "code",
   "execution_count": null,
   "metadata": {},
   "outputs": [
    {
     "ename": "PermissionError",
     "evalue": "[Errno 13] Permission denied: 'F:\\\\rsna-miccai-brain-tumor-radiogenomic-classification\\\\train\\\\00000\\\\FLAIR'",
     "output_type": "error",
     "traceback": [
      "\u001b[1;31m---------------------------------------------------------------------------\u001b[0m",
      "\u001b[1;31mPermissionError\u001b[0m                           Traceback (most recent call last)",
      "\u001b[1;32mc:\\Users\\yigit\\Desktop\\b\\ml stuff\\research\\copying.ipynb Cell 2\u001b[0m line \u001b[0;36m6\n\u001b[0;32m      <a href='vscode-notebook-cell:/c%3A/Users/yigit/Desktop/b/ml%20stuff/research/copying.ipynb#W4sZmlsZQ%3D%3D?line=3'>4</a>\u001b[0m \u001b[39mfor\u001b[39;00m \u001b[39mtype\u001b[39m \u001b[39min\u001b[39;00m folder\u001b[39m.\u001b[39miterdir():\n\u001b[0;32m      <a href='vscode-notebook-cell:/c%3A/Users/yigit/Desktop/b/ml%20stuff/research/copying.ipynb#W4sZmlsZQ%3D%3D?line=4'>5</a>\u001b[0m     \u001b[39mfor\u001b[39;00m pic \u001b[39min\u001b[39;00m folder\u001b[39m.\u001b[39miterdir():\n\u001b[1;32m----> <a href='vscode-notebook-cell:/c%3A/Users/yigit/Desktop/b/ml%20stuff/research/copying.ipynb#W4sZmlsZQ%3D%3D?line=5'>6</a>\u001b[0m         dcm \u001b[39m=\u001b[39m pydicom\u001b[39m.\u001b[39;49mdcmread(\u001b[39mstr\u001b[39;49m(pic))\n\u001b[0;32m      <a href='vscode-notebook-cell:/c%3A/Users/yigit/Desktop/b/ml%20stuff/research/copying.ipynb#W4sZmlsZQ%3D%3D?line=6'>7</a>\u001b[0m         \u001b[39mprint\u001b[39m(dcm\u001b[39m.\u001b[39mRows)\n\u001b[0;32m      <a href='vscode-notebook-cell:/c%3A/Users/yigit/Desktop/b/ml%20stuff/research/copying.ipynb#W4sZmlsZQ%3D%3D?line=7'>8</a>\u001b[0m         \u001b[39mprint\u001b[39m(dcm\u001b[39m.\u001b[39mColumns)\n",
      "File \u001b[1;32m~\\AppData\\Local\\Packages\\PythonSoftwareFoundation.Python.3.8_qbz5n2kfra8p0\\LocalCache\\local-packages\\Python38\\site-packages\\pydicom\\filereader.py:1002\u001b[0m, in \u001b[0;36mdcmread\u001b[1;34m(fp, defer_size, stop_before_pixels, force, specific_tags)\u001b[0m\n\u001b[0;32m   1000\u001b[0m     caller_owns_file \u001b[39m=\u001b[39m \u001b[39mFalse\u001b[39;00m\n\u001b[0;32m   1001\u001b[0m     logger\u001b[39m.\u001b[39mdebug(\u001b[39m\"\u001b[39m\u001b[39mReading file \u001b[39m\u001b[39m'\u001b[39m\u001b[39m{0}\u001b[39;00m\u001b[39m'\u001b[39m\u001b[39m\"\u001b[39m\u001b[39m.\u001b[39mformat(fp))\n\u001b[1;32m-> 1002\u001b[0m     fp \u001b[39m=\u001b[39m \u001b[39mopen\u001b[39;49m(fp, \u001b[39m'\u001b[39;49m\u001b[39mrb\u001b[39;49m\u001b[39m'\u001b[39;49m)\n\u001b[0;32m   1003\u001b[0m \u001b[39melif\u001b[39;00m fp \u001b[39mis\u001b[39;00m \u001b[39mNone\u001b[39;00m \u001b[39mor\u001b[39;00m \u001b[39mnot\u001b[39;00m \u001b[39mhasattr\u001b[39m(fp, \u001b[39m\"\u001b[39m\u001b[39mread\u001b[39m\u001b[39m\"\u001b[39m) \u001b[39mor\u001b[39;00m \u001b[39mnot\u001b[39;00m \u001b[39mhasattr\u001b[39m(fp, \u001b[39m\"\u001b[39m\u001b[39mseek\u001b[39m\u001b[39m\"\u001b[39m):\n\u001b[0;32m   1004\u001b[0m     \u001b[39mraise\u001b[39;00m \u001b[39mTypeError\u001b[39;00m(\u001b[39m\"\u001b[39m\u001b[39mdcmread: Expected a file path or a file-like, \u001b[39m\u001b[39m\"\u001b[39m\n\u001b[0;32m   1005\u001b[0m                     \u001b[39m\"\u001b[39m\u001b[39mbut got \u001b[39m\u001b[39m\"\u001b[39m \u001b[39m+\u001b[39m \u001b[39mtype\u001b[39m(fp)\u001b[39m.\u001b[39m\u001b[39m__name__\u001b[39m)\n",
      "\u001b[1;31mPermissionError\u001b[0m: [Errno 13] Permission denied: 'F:\\\\rsna-miccai-brain-tumor-radiogenomic-classification\\\\train\\\\00000\\\\FLAIR'"
     ]
    }
   ],
   "source": [
    "path = pathlib.Path(TRAINING_FOLDER)\n",
    "\n",
    "for folder in path.iterdir():\n",
    "    for type in folder.iterdir():\n",
    "        for pic in type.iterdir():\n",
    "            dcm = pydicom.dcmread(str(pic))\n",
    "            print(dcm.Rows)\n",
    "            print(dcm.Columns)\n",
    "            break"
   ]
  },
  {
   "cell_type": "code",
   "execution_count": 6,
   "metadata": {},
   "outputs": [
    {
     "ename": "NotADirectoryError",
     "evalue": "[WinError 267] Dizin adı geçersiz: 'F:\\\\rsna-miccai-brain-tumor-radiogenomic-classification\\\\train\\\\dir}'",
     "output_type": "error",
     "traceback": [
      "\u001b[1;31m---------------------------------------------------------------------------\u001b[0m",
      "\u001b[1;31mNotADirectoryError\u001b[0m                        Traceback (most recent call last)",
      "\u001b[1;32mc:\\Users\\yigit\\Desktop\\b\\ml stuff\\research\\copying.ipynb Cell 3\u001b[0m line \u001b[0;36m9\n\u001b[0;32m      <a href='vscode-notebook-cell:/c%3A/Users/yigit/Desktop/b/ml%20stuff/research/copying.ipynb#W1sZmlsZQ%3D%3D?line=6'>7</a>\u001b[0m \u001b[39mfor\u001b[39;00m folder \u001b[39min\u001b[39;00m path\u001b[39m.\u001b[39miterdir():\n\u001b[0;32m      <a href='vscode-notebook-cell:/c%3A/Users/yigit/Desktop/b/ml%20stuff/research/copying.ipynb#W1sZmlsZQ%3D%3D?line=7'>8</a>\u001b[0m     sizes[folder\u001b[39m.\u001b[39mname] \u001b[39m=\u001b[39m \u001b[39mdict\u001b[39m()\n\u001b[1;32m----> <a href='vscode-notebook-cell:/c%3A/Users/yigit/Desktop/b/ml%20stuff/research/copying.ipynb#W1sZmlsZQ%3D%3D?line=8'>9</a>\u001b[0m     \u001b[39mfor\u001b[39;00m \u001b[39mtype\u001b[39m \u001b[39min\u001b[39;00m folder\u001b[39m.\u001b[39miterdir():\n\u001b[0;32m     <a href='vscode-notebook-cell:/c%3A/Users/yigit/Desktop/b/ml%20stuff/research/copying.ipynb#W1sZmlsZQ%3D%3D?line=9'>10</a>\u001b[0m         sizes[folder\u001b[39m.\u001b[39mname][\u001b[39mtype\u001b[39m\u001b[39m.\u001b[39mname] \u001b[39m=\u001b[39m \u001b[39mlist\u001b[39m()\n\u001b[0;32m     <a href='vscode-notebook-cell:/c%3A/Users/yigit/Desktop/b/ml%20stuff/research/copying.ipynb#W1sZmlsZQ%3D%3D?line=10'>11</a>\u001b[0m         \u001b[39mfor\u001b[39;00m pic \u001b[39min\u001b[39;00m \u001b[39mtype\u001b[39m\u001b[39m.\u001b[39miterdir():\n",
      "File \u001b[1;32mC:\\Program Files\\WindowsApps\\PythonSoftwareFoundation.Python.3.8_3.8.2800.0_x64__qbz5n2kfra8p0\\lib\\pathlib.py:1122\u001b[0m, in \u001b[0;36mPath.iterdir\u001b[1;34m(self)\u001b[0m\n\u001b[0;32m   1120\u001b[0m \u001b[39mif\u001b[39;00m \u001b[39mself\u001b[39m\u001b[39m.\u001b[39m_closed:\n\u001b[0;32m   1121\u001b[0m     \u001b[39mself\u001b[39m\u001b[39m.\u001b[39m_raise_closed()\n\u001b[1;32m-> 1122\u001b[0m \u001b[39mfor\u001b[39;00m name \u001b[39min\u001b[39;00m \u001b[39mself\u001b[39;49m\u001b[39m.\u001b[39;49m_accessor\u001b[39m.\u001b[39;49mlistdir(\u001b[39mself\u001b[39;49m):\n\u001b[0;32m   1123\u001b[0m     \u001b[39mif\u001b[39;00m name \u001b[39min\u001b[39;00m {\u001b[39m'\u001b[39m\u001b[39m.\u001b[39m\u001b[39m'\u001b[39m, \u001b[39m'\u001b[39m\u001b[39m..\u001b[39m\u001b[39m'\u001b[39m}:\n\u001b[0;32m   1124\u001b[0m         \u001b[39m# Yielding a path object for these makes little sense\u001b[39;00m\n\u001b[0;32m   1125\u001b[0m         \u001b[39mcontinue\u001b[39;00m\n",
      "\u001b[1;31mNotADirectoryError\u001b[0m: [WinError 267] Dizin adı geçersiz: 'F:\\\\rsna-miccai-brain-tumor-radiogenomic-classification\\\\train\\\\dir}'"
     ]
    }
   ],
   "source": [
    "path = pathlib.Path(TRAINING_FOLDER)\n",
    "\n",
    "sizes = dict()\n",
    "\n",
    "file = open(r\"F:/rsna-miccai-brain-tumor-radiogenomic-classification/files/info.txt\", \"w+\")\n",
    "\n",
    "for folder in path.iterdir():\n",
    "    sizes[folder.name] = dict()\n",
    "    for type in folder.iterdir():\n",
    "        sizes[folder.name][type.name] = list()\n",
    "        for pic in type.iterdir():\n",
    "            dcm = pydicom.dcmread(str(pic))\n",
    "            npdcm = dcm.pixel_array\n",
    "            size = npdcm.shape\n",
    "            if size not in sizes[folder.name][type.name]:\n",
    "                sizes[folder.name][type.name].append(size)"
   ]
  },
  {
   "cell_type": "code",
   "execution_count": 9,
   "metadata": {},
   "outputs": [],
   "source": [
    "file = open(r\"F:/rsna-miccai-brain-tumor-radiogenomic-classification/files/info.txt\", \"w+\")\n",
    "\n",
    "for key in sizes.keys():\n",
    "    file.write(f'{key}: {sizes[key]}\\n')"
   ]
  },
  {
   "cell_type": "code",
   "execution_count": null,
   "metadata": {},
   "outputs": [],
   "source": [
    "file.close()"
   ]
  },
  {
   "cell_type": "code",
   "execution_count": 5,
   "metadata": {},
   "outputs": [],
   "source": [
    "parentPath = pathlib.Path(TARGET_FOLDER)\n",
    "\n",
    "# iterate over each patient\n",
    "for patient in parentPath.iterdir():\n",
    "    for type in patient.iterdir():\n",
    "        # create corresponding folders\n",
    "        pathlib.Path(TARGET_FOLDER + \"\\\\\" + patient.name + \"\\\\\" + type.name).mkdir(parents=True, exist_ok=True)"
   ]
  },
  {
   "cell_type": "code",
   "execution_count": 12,
   "metadata": {},
   "outputs": [],
   "source": [
    "# now go through each instance to check if they are usable, then copy\n",
    "for patient in parentPath.iterdir():\n",
    "    for type in patient.iterdir():\n",
    "        for file in type.iterdir():\n",
    "            filenp = pydicom.dcmread(str(file)).pixel_array\n",
    "            if numpy.any(filenp):\n",
    "                shutil.copy(src=file, dst= TARGET_FOLDER + \"\\\\\" + patient.name + \"\\\\\" + type.name)\n",
    "\n"
   ]
  }
 ],
 "metadata": {
  "kernelspec": {
   "display_name": "Python 3",
   "language": "python",
   "name": "python3"
  },
  "language_info": {
   "codemirror_mode": {
    "name": "ipython",
    "version": 3
   },
   "file_extension": ".py",
   "mimetype": "text/x-python",
   "name": "python",
   "nbconvert_exporter": "python",
   "pygments_lexer": "ipython3",
   "version": "3.8.10"
  },
  "orig_nbformat": 4
 },
 "nbformat": 4,
 "nbformat_minor": 2
}
